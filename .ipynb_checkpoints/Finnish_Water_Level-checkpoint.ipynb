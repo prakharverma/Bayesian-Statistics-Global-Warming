{
 "cells": [
  {
   "cell_type": "markdown",
   "metadata": {},
   "source": [
    "# Loading Packages"
   ]
  },
  {
   "cell_type": "code",
   "execution_count": 1,
   "metadata": {},
   "outputs": [],
   "source": [
    "import pandas as pd\n",
    "import numpy as np\n",
    "import matplotlib.pyplot as plt\n",
    "import pickle\n",
    "from hashlib import md5\n",
    "from IPython.display import display, Markdown, Latex, Code\n",
    "from scipy.special import logsumexp\n",
    "import os.path\n",
    "import pystan\n",
    "from hashlib import md5"
   ]
  },
  {
   "cell_type": "markdown",
   "metadata": {},
   "source": [
    "# Preprocessing data"
   ]
  },
  {
   "cell_type": "code",
   "execution_count": 2,
   "metadata": {},
   "outputs": [],
   "source": [
    "def process_data(data_path, mean_sea_level_path, debug=False):\n",
    "    print(f\"Processing data from files: {data_path}, {mean_sea_level_path}\")\n",
    "    \n",
    "    data = pd.read_csv(data_path)\n",
    "    mean_sea_level_data = pd.read_csv(mean_sea_level_path)\n",
    "    #year_means = []\n",
    "    \n",
    "    #for year in range(1980, 2019):\n",
    "    #    year_means.append(np.mean(data.loc[data['Year'] == year]['Water level (mm)'].values))\n",
    "\n",
    "    # Normalize data\n",
    "    normalized_data_path = f\"{data_path}_n.csv\"\n",
    "    if os.path.isfile(normalized_data_path):\n",
    "        n_data = pd.read_csv(normalized_data_path)\n",
    "        n_data['date'] = pd.to_datetime(n_data['date'])\n",
    "        n_data.set_index('date', inplace=True)\n",
    "        print(f\"Read normalized data from {normalized_data_path}\")\n",
    "    \n",
    "    else:\n",
    "        n_data = data.copy()\n",
    "        print(f\"Normalizing {data_path}\")\n",
    "        for i, row in n_data.iterrows():\n",
    "            if row['Year'].values[0][1] < 1980:\n",
    "                continue\n",
    "            \n",
    "            if i % 1000 == 0:\n",
    "                print('\\r ready: %.2f%%' % (i / len(n_data) * 100), end=\" \")\n",
    "            n_data.iat[i, 5] = row['Water level (mm)'] - mean_sea_level_data.loc[mean_sea_level_data['Year'] == row['Year']].values[0][1]\n",
    "    \n",
    "        # Add date index\n",
    "        import datetime\n",
    "        def row_to_timestamp(row):\n",
    "            year = row['Year']\n",
    "            month = row['m']\n",
    "            day = row['d']\n",
    "            hours = datetime.datetime.strptime(row['Time'], \"%H:%M\").hour\n",
    "            date = pd.to_datetime(datetime.datetime(year, month, day, hours))\n",
    "            return date\n",
    "    \n",
    "        n_data['date'] = n_data.apply(row_to_timestamp, axis=1)\n",
    "        n_data.set_index('date', inplace=True)\n",
    "        n_data['year'] = n_data.index.year + (n_data.index.dayofyear - 1) / 365 + (n_data.index.hour) / (365 * 24)\n",
    "    \n",
    "        n_data = n_data.rename(columns={'Water level (mm)': 'water_level'})\n",
    "    \n",
    "        n_data.to_csv(normalized_data_path)\n",
    "        print(f\"\\nWrote output to {normalized_data_path}\")\n",
    "    \n",
    "    monthly_means = n_data.resample('M').mean().dropna()\n",
    "    yearly_means = n_data.resample('Y').mean().dropna()\n",
    "    \n",
    "    nans = np.argwhere(np.isnan(monthly_means['water_level']))\n",
    "    \n",
    "    return yearly_means, monthly_means\n"
   ]
  },
  {
   "cell_type": "code",
   "execution_count": 26,
   "metadata": {},
   "outputs": [
    {
     "name": "stdout",
     "output_type": "stream",
     "text": [
      "Processing data from files: /home/prakhar/projects/Finnish_Water_Level/data/Kemi.csv, /home/prakhar/projects/Finnish_Water_Level/data/kemi_mw_n2000.csv\n",
      "Read normalized data from /home/prakhar/projects/Finnish_Water_Level/data/Kemi.csv_n.csv\n"
     ]
    }
   ],
   "source": [
    "kemi_data_path = r\"/home/prakhar/projects/Finnish_Water_Level/data/Kemi.csv\"\n",
    "kemi_mean_sea_level_path = r\"/home/prakhar/projects/Finnish_Water_Level/data/kemi_mw_n2000.csv\"\n",
    "\n",
    "yearly_means, monthly_means = process_data(kemi_data_path, kemi_mean_sea_level_path)"
   ]
  },
  {
   "cell_type": "code",
   "execution_count": 27,
   "metadata": {},
   "outputs": [
    {
     "name": "stdout",
     "output_type": "stream",
     "text": [
      "{'N': 39, 'K': 1, 'x': [1980, 1981, 1982, 1983, 1984, 1985, 1986, 1987, 1988, 1989, 1990, 1991, 1992, 1993, 1994, 1995, 1996, 1997, 1998, 1999, 2000, 2001, 2002, 2003, 2004, 2005, 2006, 2007, 2008, 2009, 2010, 2011, 2012, 2013, 2014, 2015, 2016, 2017, 2018], 'y': array([-431.52185792, -277.49179565, -250.20674104, -167.05856164,\n",
      "       -323.96344435, -339.33721461, -273.20125571, -321.63618721,\n",
      "       -246.02386703, -176.23709168, -111.54075342, -238.67283105,\n",
      "       -169.10598816, -230.73424658, -210.50730594, -156.46518265,\n",
      "       -371.57365665, -236.36598174, -167.10148402, -179.46255708,\n",
      "       -250.8989071 , -219.88526087, -243.02956621, -221.92591324,\n",
      "        483.26684882, -117.24386345, -191.14600457,  -25.74828767,\n",
      "       -105.24146175, -202.34041096, -275.11712329,  -66.72420091,\n",
      "        -76.07980419, -190.79828767, -187.72728311,   27.20947489,\n",
      "       -144.87192623,  -17.46894977, -148.32203196]), 'g': [1, 1, 1, 1, 1, 1, 1, 1, 1, 1, 1, 1, 1, 1, 1, 1, 1, 1, 1, 1, 1, 1, 1, 1, 1, 1, 1, 1, 1, 1, 1, 1, 1, 1, 1, 1, 1, 1, 1]}\n",
      "39\n"
     ]
    }
   ],
   "source": [
    "k=1\n",
    "\n",
    "x = list(range(1980, 2019)) * k\n",
    "y = np.array(yearly_means['water_level'])\n",
    "\n",
    "g = sum(list(map(lambda x: [x]*39, [i for i in range(1, k + 1)])), [])\n",
    "\n",
    "data = {\n",
    "    'N': k*len(yearly_means),\n",
    "    'K': k,\n",
    "    'x': x,\n",
    "    'y': y,\n",
    "    'g': g\n",
    "}\n",
    "print(data)\n",
    "print(len(y))"
   ]
  },
  {
   "cell_type": "code",
   "execution_count": 5,
   "metadata": {},
   "outputs": [],
   "source": [
    "def compile_model(model_code, model_name=None):\n",
    "    \"\"\"This will automatically cache models - great if you're just running a\n",
    "    script on the command line.\n",
    "    See http://pystan.readthedocs.io/en/latest/avoiding_recompilation.html\"\"\"\n",
    "\n",
    "    code_hash = md5(model_code.encode('ascii')).hexdigest()\n",
    "    if model_name is None:\n",
    "        cache_fn = 'cached-model-{}.pkl'.format(code_hash)\n",
    "    else:\n",
    "        cache_fn = 'cached-{}-{}.pkl'.format(model_name, code_hash)\n",
    "    try:\n",
    "        sm = pickle.load(open(cache_fn, 'rb'))\n",
    "    except:\n",
    "        sm = pystan.StanModel(model_code=model_code)\n",
    "        with open(cache_fn, 'wb') as f:\n",
    "            pickle.dump(sm, f)\n",
    "    else:\n",
    "        print(\"Using cached StanModel\")\n",
    "    return sm"
   ]
  },
  {
   "cell_type": "code",
   "execution_count": 6,
   "metadata": {},
   "outputs": [
    {
     "name": "stderr",
     "output_type": "stream",
     "text": [
      "INFO:pystan:COMPILING THE C++ CODE FOR MODEL anon_model_a545a0f59861397285412bd87b409037 NOW.\n"
     ]
    }
   ],
   "source": [
    "separate_stan_model = \"\"\"\n",
    "data {\n",
    "  int<lower=0> N; // number of data points\n",
    "  int<lower=1> K; // number of groups\n",
    "  vector[N] y;\n",
    "  vector[N] x;  // years\n",
    "  int<lower=1,upper=K> g[N];\n",
    "}\n",
    "parameters {\n",
    "  vector[K] alpha;\n",
    "  vector[K] beta;\n",
    "  vector<lower=0>[K] sigma;\n",
    "}\n",
    "model {\n",
    "  beta ~ normal(3.2, 10^2);\n",
    "  y ~ normal(alpha[g] + beta[g].*(x-1980), sigma[g]);\n",
    "}\n",
    "generated quantities {\n",
    " vector[N] log_lik;\n",
    " vector[N] y_rep;\n",
    " for (i in 1:N) {\n",
    "   log_lik[i] = normal_lpdf(y[i] | alpha[g[i]] + beta[g[i]].* (x[i]-1980), sigma[g[i]]);\n",
    "   y_rep[i] = normal_rng(alpha[g[i]] + beta[g[i]].* (x[i]-1980), sigma[g[i]]);\n",
    " }\n",
    "}\n",
    "\"\"\"\n",
    "sm_separate = compile_model(separate_stan_model, model_name=\"separate\")"
   ]
  },
  {
   "cell_type": "code",
   "execution_count": 7,
   "metadata": {},
   "outputs": [
    {
     "name": "stderr",
     "output_type": "stream",
     "text": [
      "INFO:pystan:COMPILING THE C++ CODE FOR MODEL anon_model_245f3f3f6df5b3360ad1d7db4c0503f6 NOW.\n"
     ]
    }
   ],
   "source": [
    "hierarchical_stan_model = \"\"\"\n",
    "data {\n",
    "  int<lower=0> N; // number of data points\n",
    "  int<lower=1> K; // number of groups\n",
    "  vector[N] y;\n",
    "  vector[N] x;  // years\n",
    "  int<lower=1,upper=K> g[N];\n",
    "}\n",
    "parameters {\n",
    "  vector[K] alpha;\n",
    "  vector[K] beta;\n",
    "  real beta0;\n",
    "  real<lower=0> sigma0;\n",
    "  real<lower=0> sigma;\n",
    "}\n",
    "model {\n",
    "  beta0 ~ normal(3.3, 10^2);\n",
    "  sigma0 ~ normal(0, 10);\n",
    "  beta ~ normal(beta0, sigma0);\n",
    "  y ~ normal(alpha[g] + beta[g].*(x-1971), sigma);\n",
    "}\n",
    "generated quantities {\n",
    " vector[N] log_lik;\n",
    " vector[N] y_rep;\n",
    " for (i in 1:N) {\n",
    "   y_rep[i] = normal_rng(alpha[g[i]] + beta[g[i]] .* (x[i]-1971), sigma);\n",
    "   log_lik[i] = normal_lpdf(y[i] | alpha[g[i]] + beta[g[i]] .* (x[i]-1971), sigma);\n",
    " }\n",
    "}\n",
    "\"\"\"\n",
    "sm_hierarchical = compile_model(hierarchical_stan_model, model_name=\"hierarchical\")"
   ]
  },
  {
   "cell_type": "code",
   "execution_count": 28,
   "metadata": {},
   "outputs": [],
   "source": [
    "fit = sm_separate.sampling(data)"
   ]
  },
  {
   "cell_type": "code",
   "execution_count": 32,
   "metadata": {},
   "outputs": [
    {
     "name": "stderr",
     "output_type": "stream",
     "text": [
      "WARNING:pystan:243 of 4000 iterations ended with a divergence (6.08 %).\n",
      "WARNING:pystan:Try running with adapt_delta larger than 0.8 to remove the divergences.\n"
     ]
    }
   ],
   "source": [
    "fit_h = sm_hierarchical.sampling(data)"
   ]
  },
  {
   "cell_type": "code",
   "execution_count": 30,
   "metadata": {},
   "outputs": [],
   "source": [
    "def fit_summary(fit1, fit2):\n",
    "    s1 = fit1.summary()\n",
    "    s2 = fit2.summary()\n",
    "    summary1 = pd.DataFrame(s1['summary'][:18,-2:], columns=['n_eff', 'Rhat'], index=s1['summary_rownames'][:18])\n",
    "    summary1 = summary1.rename(index=str, columns={\"n_eff\": \"seperate: n_eff\", \"Rhat\": \"seperate: Rhat\"})\n",
    "    summary2 = pd.DataFrame(s2['summary'][:15,-2:], columns=['n_eff', 'Rhat'], index=s2['summary_rownames'][:15])\n",
    "    summary2 = summary2.rename(index=str, columns={\"n_eff\": \"hierarchial: n_eff\", \"Rhat\": \"hierarchial: Rhat\"})\n",
    "    summary3 = summary1.join(summary2, how='outer')\n",
    "    return summary3"
   ]
  },
  {
   "cell_type": "code",
   "execution_count": 33,
   "metadata": {},
   "outputs": [
    {
     "data": {
      "text/html": [
       "<div>\n",
       "<style scoped>\n",
       "    .dataframe tbody tr th:only-of-type {\n",
       "        vertical-align: middle;\n",
       "    }\n",
       "\n",
       "    .dataframe tbody tr th {\n",
       "        vertical-align: top;\n",
       "    }\n",
       "\n",
       "    .dataframe thead th {\n",
       "        text-align: right;\n",
       "    }\n",
       "</style>\n",
       "<table border=\"1\" class=\"dataframe\">\n",
       "  <thead>\n",
       "    <tr style=\"text-align: right;\">\n",
       "      <th></th>\n",
       "      <th>seperate: n_eff</th>\n",
       "      <th>seperate: Rhat</th>\n",
       "      <th>hierarchial: n_eff</th>\n",
       "      <th>hierarchial: Rhat</th>\n",
       "    </tr>\n",
       "  </thead>\n",
       "  <tbody>\n",
       "    <tr>\n",
       "      <th>alpha[1]</th>\n",
       "      <td>1830.604090</td>\n",
       "      <td>1.000451</td>\n",
       "      <td>795.500319</td>\n",
       "      <td>1.004795</td>\n",
       "    </tr>\n",
       "    <tr>\n",
       "      <th>beta0</th>\n",
       "      <td>NaN</td>\n",
       "      <td>NaN</td>\n",
       "      <td>1418.513353</td>\n",
       "      <td>1.004117</td>\n",
       "    </tr>\n",
       "    <tr>\n",
       "      <th>beta[1]</th>\n",
       "      <td>1742.740253</td>\n",
       "      <td>1.000348</td>\n",
       "      <td>810.527696</td>\n",
       "      <td>1.004146</td>\n",
       "    </tr>\n",
       "    <tr>\n",
       "      <th>log_lik[10]</th>\n",
       "      <td>2237.083587</td>\n",
       "      <td>0.999983</td>\n",
       "      <td>1381.938057</td>\n",
       "      <td>1.002377</td>\n",
       "    </tr>\n",
       "    <tr>\n",
       "      <th>log_lik[11]</th>\n",
       "      <td>2426.110616</td>\n",
       "      <td>1.000235</td>\n",
       "      <td>NaN</td>\n",
       "      <td>NaN</td>\n",
       "    </tr>\n",
       "    <tr>\n",
       "      <th>log_lik[12]</th>\n",
       "      <td>2234.771771</td>\n",
       "      <td>1.000143</td>\n",
       "      <td>NaN</td>\n",
       "      <td>NaN</td>\n",
       "    </tr>\n",
       "    <tr>\n",
       "      <th>log_lik[13]</th>\n",
       "      <td>2342.200309</td>\n",
       "      <td>0.999812</td>\n",
       "      <td>NaN</td>\n",
       "      <td>NaN</td>\n",
       "    </tr>\n",
       "    <tr>\n",
       "      <th>log_lik[14]</th>\n",
       "      <td>2263.169913</td>\n",
       "      <td>1.000131</td>\n",
       "      <td>NaN</td>\n",
       "      <td>NaN</td>\n",
       "    </tr>\n",
       "    <tr>\n",
       "      <th>log_lik[15]</th>\n",
       "      <td>2242.479072</td>\n",
       "      <td>1.000024</td>\n",
       "      <td>NaN</td>\n",
       "      <td>NaN</td>\n",
       "    </tr>\n",
       "    <tr>\n",
       "      <th>log_lik[1]</th>\n",
       "      <td>1851.227833</td>\n",
       "      <td>1.001092</td>\n",
       "      <td>989.111474</td>\n",
       "      <td>1.003833</td>\n",
       "    </tr>\n",
       "    <tr>\n",
       "      <th>log_lik[2]</th>\n",
       "      <td>2017.867504</td>\n",
       "      <td>1.000179</td>\n",
       "      <td>1827.185365</td>\n",
       "      <td>1.000280</td>\n",
       "    </tr>\n",
       "    <tr>\n",
       "      <th>log_lik[3]</th>\n",
       "      <td>2033.135651</td>\n",
       "      <td>1.000098</td>\n",
       "      <td>1268.081868</td>\n",
       "      <td>1.001544</td>\n",
       "    </tr>\n",
       "    <tr>\n",
       "      <th>log_lik[4]</th>\n",
       "      <td>1993.591342</td>\n",
       "      <td>1.000546</td>\n",
       "      <td>764.658679</td>\n",
       "      <td>1.004044</td>\n",
       "    </tr>\n",
       "    <tr>\n",
       "      <th>log_lik[5]</th>\n",
       "      <td>2000.846452</td>\n",
       "      <td>1.000909</td>\n",
       "      <td>1452.736487</td>\n",
       "      <td>1.001249</td>\n",
       "    </tr>\n",
       "    <tr>\n",
       "      <th>log_lik[6]</th>\n",
       "      <td>2015.646403</td>\n",
       "      <td>1.000998</td>\n",
       "      <td>1189.961675</td>\n",
       "      <td>1.002194</td>\n",
       "    </tr>\n",
       "    <tr>\n",
       "      <th>log_lik[7]</th>\n",
       "      <td>2137.196932</td>\n",
       "      <td>1.000334</td>\n",
       "      <td>2090.654461</td>\n",
       "      <td>1.000237</td>\n",
       "    </tr>\n",
       "    <tr>\n",
       "      <th>log_lik[8]</th>\n",
       "      <td>2123.602896</td>\n",
       "      <td>1.000860</td>\n",
       "      <td>1237.633343</td>\n",
       "      <td>1.001974</td>\n",
       "    </tr>\n",
       "    <tr>\n",
       "      <th>log_lik[9]</th>\n",
       "      <td>2185.962109</td>\n",
       "      <td>1.000112</td>\n",
       "      <td>2081.831748</td>\n",
       "      <td>1.000546</td>\n",
       "    </tr>\n",
       "    <tr>\n",
       "      <th>sigma</th>\n",
       "      <td>NaN</td>\n",
       "      <td>NaN</td>\n",
       "      <td>2125.502150</td>\n",
       "      <td>1.001718</td>\n",
       "    </tr>\n",
       "    <tr>\n",
       "      <th>sigma0</th>\n",
       "      <td>NaN</td>\n",
       "      <td>NaN</td>\n",
       "      <td>575.554938</td>\n",
       "      <td>1.007325</td>\n",
       "    </tr>\n",
       "    <tr>\n",
       "      <th>sigma[1]</th>\n",
       "      <td>2240.597499</td>\n",
       "      <td>0.999778</td>\n",
       "      <td>NaN</td>\n",
       "      <td>NaN</td>\n",
       "    </tr>\n",
       "  </tbody>\n",
       "</table>\n",
       "</div>"
      ],
      "text/plain": [
       "             seperate: n_eff  seperate: Rhat  hierarchial: n_eff  \\\n",
       "alpha[1]         1830.604090        1.000451          795.500319   \n",
       "beta0                    NaN             NaN         1418.513353   \n",
       "beta[1]          1742.740253        1.000348          810.527696   \n",
       "log_lik[10]      2237.083587        0.999983         1381.938057   \n",
       "log_lik[11]      2426.110616        1.000235                 NaN   \n",
       "log_lik[12]      2234.771771        1.000143                 NaN   \n",
       "log_lik[13]      2342.200309        0.999812                 NaN   \n",
       "log_lik[14]      2263.169913        1.000131                 NaN   \n",
       "log_lik[15]      2242.479072        1.000024                 NaN   \n",
       "log_lik[1]       1851.227833        1.001092          989.111474   \n",
       "log_lik[2]       2017.867504        1.000179         1827.185365   \n",
       "log_lik[3]       2033.135651        1.000098         1268.081868   \n",
       "log_lik[4]       1993.591342        1.000546          764.658679   \n",
       "log_lik[5]       2000.846452        1.000909         1452.736487   \n",
       "log_lik[6]       2015.646403        1.000998         1189.961675   \n",
       "log_lik[7]       2137.196932        1.000334         2090.654461   \n",
       "log_lik[8]       2123.602896        1.000860         1237.633343   \n",
       "log_lik[9]       2185.962109        1.000112         2081.831748   \n",
       "sigma                    NaN             NaN         2125.502150   \n",
       "sigma0                   NaN             NaN          575.554938   \n",
       "sigma[1]         2240.597499        0.999778                 NaN   \n",
       "\n",
       "             hierarchial: Rhat  \n",
       "alpha[1]              1.004795  \n",
       "beta0                 1.004117  \n",
       "beta[1]               1.004146  \n",
       "log_lik[10]           1.002377  \n",
       "log_lik[11]                NaN  \n",
       "log_lik[12]                NaN  \n",
       "log_lik[13]                NaN  \n",
       "log_lik[14]                NaN  \n",
       "log_lik[15]                NaN  \n",
       "log_lik[1]            1.003833  \n",
       "log_lik[2]            1.000280  \n",
       "log_lik[3]            1.001544  \n",
       "log_lik[4]            1.004044  \n",
       "log_lik[5]            1.001249  \n",
       "log_lik[6]            1.002194  \n",
       "log_lik[7]            1.000237  \n",
       "log_lik[8]            1.001974  \n",
       "log_lik[9]            1.000546  \n",
       "sigma                 1.001718  \n",
       "sigma0                1.007325  \n",
       "sigma[1]                   NaN  "
      ]
     },
     "metadata": {},
     "output_type": "display_data"
    }
   ],
   "source": [
    "summary = fit_summary(fit, fit_h)\n",
    "display(summary)"
   ]
  },
  {
   "cell_type": "code",
   "execution_count": 39,
   "metadata": {},
   "outputs": [
    {
     "ename": "ModuleNotFoundError",
     "evalue": "No module named 'psisloo'",
     "output_type": "error",
     "traceback": [
      "\u001b[0;31m---------------------------------------------------------------------------\u001b[0m",
      "\u001b[0;31mModuleNotFoundError\u001b[0m                       Traceback (most recent call last)",
      "\u001b[0;32m<ipython-input-39-a5664c488056>\u001b[0m in \u001b[0;36m<module>\u001b[0;34m\u001b[0m\n\u001b[0;32m----> 1\u001b[0;31m \u001b[0;32mimport\u001b[0m \u001b[0mpsisloo\u001b[0m\u001b[0;34m\u001b[0m\u001b[0;34m\u001b[0m\u001b[0m\n\u001b[0m",
      "\u001b[0;31mModuleNotFoundError\u001b[0m: No module named 'psisloo'"
     ]
    }
   ],
   "source": [
    "from arviz import psislw\n",
    "\n",
    "# ps"
   ]
  },
  {
   "cell_type": "code",
   "execution_count": 34,
   "metadata": {},
   "outputs": [],
   "source": [
    "def plot_results(ax, x, y, k, data, title):\n",
    "    x = np.array(x).reshape((-1,1))\n",
    "    alpha = np.mean(y['alpha'][:,k])\n",
    "    beta = np.mean(y['beta'][:,k])\n",
    "    mu = y['alpha'][:,k] + x * y['beta'][:,k]\n",
    "    ax[k//2,k%2].plot(x+1971, np.mean(mu, axis=1), linewidth=1, color='r', label=fr\"$\\alpha$: {alpha:.2f}  $\\beta$: {beta:.2f}\")\n",
    "    ax[k//2,k%2].plot(x+1971, np.percentile(mu, 5, axis=1), linestyle=\"--\", color='orange')\n",
    "    ax[k//2,k%2].plot(x+1971, np.percentile(mu, 95, axis=1), linestyle=\"--\", color='orange')\n",
    "    ax[k//2,k%2].scatter(x+1971, data['water_level'], label=None)\n",
    "    ax[k//2,k%2].set_title(title)\n",
    "    ax[k//2,k%2].legend(fontsize=20)"
   ]
  },
  {
   "cell_type": "code",
   "execution_count": 40,
   "metadata": {},
   "outputs": [
    {
     "data": {
      "image/png": "[encoded data removed]",
      "text/plain": [
       "<Figure size 1440x1440 with 6 Axes>"
      ]
     },
     "metadata": {
      "needs_background": "light"
     },
     "output_type": "display_data"
    }
   ],
   "source": [
    "out = fit.extract()\n",
    "fig, ax = plt.subplots(2,3, figsize=(20,20))\n",
    "plot_results(ax, range(0, 39), out, 0, yearly_means, 'Kemi')"
   ]
  }
 ],
 "metadata": {
  "kernelspec": {
   "display_name": "Python 3",
   "language": "python",
   "name": "python3"
  },
  "language_info": {
   "codemirror_mode": {
    "name": "ipython",
    "version": 3
   },
   "file_extension": ".py",
   "mimetype": "text/x-python",
   "name": "python",
   "nbconvert_exporter": "python",
   "pygments_lexer": "ipython3",
   "version": "3.6.8"
  }
 },
 "nbformat": 4,
 "nbformat_minor": 2
}
