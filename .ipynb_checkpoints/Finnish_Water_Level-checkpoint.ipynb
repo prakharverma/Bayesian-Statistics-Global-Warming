{
 "cells": [
  {
   "cell_type": "markdown",
   "metadata": {},
   "source": [
    "# Loading Packages"
   ]
  },
  {
   "cell_type": "code",
   "execution_count": 1,
   "metadata": {},
   "outputs": [],
   "source": [
    "import pandas as pd\n",
    "import numpy as np\n",
    "import matplotlib.pyplot as plt\n",
    "import pickle\n",
    "from hashlib import md5\n",
    "from IPython.display import display, Markdown, Latex, Code\n",
    "from scipy.special import logsumexp\n",
    "import os.path\n"
   ]
  },
  {
   "cell_type": "markdown",
   "metadata": {},
   "source": [
    "# Preprocessing data"
   ]
  },
  {
   "cell_type": "code",
   "execution_count": null,
   "metadata": {},
   "outputs": [],
   "source": [
    "\n",
    "def process_data(data_path, mw_path, debug=False):\n",
    "    print(f\"Processing data from files: {data_path}, {mw_path}\")\n",
    "    \n",
    "    data = pd.read_csv(data_path)\n",
    "    mwdata = pd.read_csv(mw_path)\n",
    "    year_means = []\n",
    "    \n",
    "    for year in range(1971, 2019):\n",
    "        year_means.append(np.mean(data.loc[data['Year'] == year]['Water level (mm)'].values))\n",
    "\n",
    "    if debug:\n",
    "        plt.title('Data relative to MW')\n",
    "        plt.show()\n",
    "        plt.title('MW data')\n",
    "        plt.plot(mwdata.values[:, 0], mwdata.values[:, 1])\n",
    "        plt.show()\n",
    "    \n",
    "    # Normalize data\n",
    "    normalized_data_path = f\"{data_path}_n.csv\"\n",
    "    if os.path.isfile(normalized_data_path):\n",
    "        n_data = pd.read_csv(normalized_data_path)\n",
    "        n_data['date'] = pd.to_datetime(n_data['date'])\n",
    "        n_data.set_index('date', inplace=True)\n",
    "        print(f\"Read normalized data from {normalized_data_path}\")\n",
    "    else:\n",
    "        n_data = data.copy()\n",
    "        print(f\"Normalizing {data_path}\")\n",
    "        for i, row in n_data.iterrows():\n",
    "            if i % 1000 == 0:\n",
    "                print('\\r ready: %.2f%%' % (i / len(n_data) * 100), end=\" \")\n",
    "            n_data.iat[i, 5] = row['Vedenkorkeus (mm)'] - mwdata.loc[mwdata['Vuosi'] == row['Vuosi']].values[0][1]\n",
    "    \n",
    "        # Add date index\n",
    "        import datetime\n",
    "        def row_to_timestamp(row):\n",
    "            year = row['Vuosi']\n",
    "            month = row['Kk']\n",
    "            day = row['Pv']\n",
    "            hours = datetime.datetime.strptime(row['Klo'], \"%H:%M\").hour\n",
    "            date = pd.to_datetime(datetime.datetime(year, month, day, hours))\n",
    "            return date\n",
    "    \n",
    "        n_data['date'] = n_data.apply(row_to_timestamp, axis=1)\n",
    "        n_data.set_index('date', inplace=True)\n",
    "        n_data['year'] = n_data.index.year + (n_data.index.dayofyear - 1) / 365 + (n_data.index.hour) / (365 * 24)\n",
    "    \n",
    "        n_data = n_data.rename(columns={'Vedenkorkeus (mm)': 'water_level'})\n",
    "    \n",
    "        n_data.to_csv(normalized_data_path)\n",
    "        print(f\"\\nWrote output to {normalized_data_path}\")\n",
    "    \n",
    "    # daily_means = n_data.resample('D').mean().dropna()\n",
    "    monthly_means = n_data.resample('M').mean().dropna()\n",
    "    yearly_means = n_data.resample('Y').mean().dropna()\n",
    "    \n",
    "    nans = np.argwhere(np.isnan(monthly_means['water_level']))\n",
    "    \n",
    "    if debug:\n",
    "        plt.title('Year means')\n",
    "        plt.plot(yearly_means['year'], yearly_means['water_level'])\n",
    "        plt.show()\n",
    "    \n",
    "        plt.title('Month means')\n",
    "        plt.plot(monthly_means['year'], monthly_means['water_level'])\n",
    "        plt.show()\n",
    "    \n",
    "    return yearly_means, monthly_means\n"
   ]
  }
 ],
 "metadata": {
  "kernelspec": {
   "display_name": "Python 3",
   "language": "python",
   "name": "python3"
  },
  "language_info": {
   "codemirror_mode": {
    "name": "ipython",
    "version": 3
   },
   "file_extension": ".py",
   "mimetype": "text/x-python",
   "name": "python",
   "nbconvert_exporter": "python",
   "pygments_lexer": "ipython3",
   "version": "3.6.8"
  }
 },
 "nbformat": 4,
 "nbformat_minor": 2
}
