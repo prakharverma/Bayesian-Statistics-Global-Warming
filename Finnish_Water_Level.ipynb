{
 "cells": [
  {
   "cell_type": "markdown",
   "metadata": {},
   "source": [
    "# Loading Packages"
   ]
  },
  {
   "cell_type": "code",
   "execution_count": 4,
   "metadata": {},
   "outputs": [],
   "source": [
    "import pandas as pd\n",
    "import numpy as np\n",
    "import matplotlib.pyplot as plt\n",
    "import pickle\n",
    "from hashlib import md5\n",
    "from IPython.display import display, Markdown, Latex, Code\n",
    "from scipy.special import logsumexp\n",
    "import os.path\n",
    "import pystan\n",
    "from hashlib import md5"
   ]
  },
  {
   "cell_type": "markdown",
   "metadata": {},
   "source": [
    "# Preprocessing data"
   ]
  },
  {
   "cell_type": "code",
   "execution_count": 8,
   "metadata": {},
   "outputs": [],
   "source": [
    "def process_data(data_path, mean_sea_level_path, debug=False):\n",
    "    print(f\"Processing data from files: {data_path}, {mean_sea_level_path}\")\n",
    "    \n",
    "    data = pd.read_csv(data_path)\n",
    "    mean_sea_level_data = pd.read_csv(mean_sea_level_path)\n",
    "    year_means = []\n",
    "    \n",
    "    for year in range(1971, 2019):\n",
    "        year_means.append(np.mean(data.loc[data['Year'] == year]['Water level (mm)'].values))\n",
    "\n",
    "    if debug:\n",
    "        plt.title('Data relative to mean sea level')\n",
    "        plt.show()\n",
    "        plt.title('mean sea level data')\n",
    "        plt.plot(mean_sea_level_data.values[:, 0], mean_sea_level_data.values[:, 1])\n",
    "        plt.show()\n",
    "    \n",
    "    # Normalize data\n",
    "    normalized_data_path = f\"{data_path}_n.csv\"\n",
    "    if os.path.isfile(normalized_data_path):\n",
    "        n_data = pd.read_csv(normalized_data_path)\n",
    "        n_data['date'] = pd.to_datetime(n_data['date'])\n",
    "        n_data.set_index('date', inplace=True)\n",
    "        print(f\"Read normalized data from {normalized_data_path}\")\n",
    "    \n",
    "    else:\n",
    "        n_data = data.copy()\n",
    "        print(f\"Normalizing {data_path}\")\n",
    "        for i, row in n_data.iterrows():\n",
    "            if i % 1000 == 0:\n",
    "                print('\\r ready: %.2f%%' % (i / len(n_data) * 100), end=\" \")\n",
    "            n_data.iat[i, 5] = row['Water level (mm)'] - mean_sea_level_data.loc[mean_sea_level_data['Year'] == row['Year']].values[0][1]\n",
    "    \n",
    "        # Add date index\n",
    "        import datetime\n",
    "        def row_to_timestamp(row):\n",
    "            year = row['Year']\n",
    "            month = row['m']\n",
    "            day = row['d']\n",
    "            hours = datetime.datetime.strptime(row['Time'], \"%H:%M\").hour\n",
    "            date = pd.to_datetime(datetime.datetime(year, month, day, hours))\n",
    "            return date\n",
    "    \n",
    "        n_data['date'] = n_data.apply(row_to_timestamp, axis=1)\n",
    "        n_data.set_index('date', inplace=True)\n",
    "        n_data['year'] = n_data.index.year + (n_data.index.dayofyear - 1) / 365 + (n_data.index.hour) / (365 * 24)\n",
    "    \n",
    "        n_data = n_data.rename(columns={'Water level (mm)': 'water_level'})\n",
    "    \n",
    "        n_data.to_csv(normalized_data_path)\n",
    "        print(f\"\\nWrote output to {normalized_data_path}\")\n",
    "    \n",
    "    monthly_means = n_data.resample('M').mean().dropna()\n",
    "    yearly_means = n_data.resample('Y').mean().dropna()\n",
    "    \n",
    "    nans = np.argwhere(np.isnan(monthly_means['water_level']))\n",
    "    \n",
    "    if debug:\n",
    "        plt.title('Year means')\n",
    "        plt.plot(yearly_means['year'], yearly_means['water_level'])\n",
    "        plt.show()\n",
    "    \n",
    "        plt.title('Month means')\n",
    "        plt.plot(monthly_means['year'], monthly_means['water_level'])\n",
    "        plt.show()\n",
    "    \n",
    "    return yearly_means, monthly_means\n"
   ]
  },
  {
   "cell_type": "code",
   "execution_count": 9,
   "metadata": {},
   "outputs": [
    {
     "name": "stdout",
     "output_type": "stream",
     "text": [
      "Processing data from files: /home/prakhar/projects/Finnish_Water_Level/data/Kemi.csv, /home/prakhar/projects/Finnish_Water_Level/data/kemi_mw_n2000.csv\n"
     ]
    },
    {
     "name": "stderr",
     "output_type": "stream",
     "text": [
      "/home/prakhar/.local/lib/python3.6/site-packages/IPython/core/interactiveshell.py:3249: DtypeWarning: Columns (8,9) have mixed types. Specify dtype option on import or set low_memory=False.\n",
      "  if (await self.run_code(code, result,  async_=asy)):\n",
      "/home/prakhar/.local/lib/python3.6/site-packages/IPython/core/interactiveshell.py:3249: DtypeWarning: Columns (9,10) have mixed types. Specify dtype option on import or set low_memory=False.\n",
      "  if (await self.run_code(code, result,  async_=asy)):\n"
     ]
    },
    {
     "name": "stdout",
     "output_type": "stream",
     "text": [
      "Read normalized data from /home/prakhar/projects/Finnish_Water_Level/data/Kemi.csv_n.csv\n"
     ]
    },
    {
     "name": "stderr",
     "output_type": "stream",
     "text": [
      "/home/prakhar/.local/lib/python3.6/site-packages/numpy/core/fromnumeric.py:61: FutureWarning: Series.nonzero() is deprecated and will be removed in a future version.Use Series.to_numpy().nonzero() instead\n",
      "  return bound(*args, **kwds)\n"
     ]
    }
   ],
   "source": [
    "kemi_data_path = r\"/home/prakhar/projects/Finnish_Water_Level/data/Kemi.csv\"\n",
    "kemi_mean_sea_level_path = r\"/home/prakhar/projects/Finnish_Water_Level/data/kemi_mw_n2000.csv\"\n",
    "\n",
    "yearly_means, monthly_means = process_data(kemi_data_path, kemi_mean_sea_level_path)"
   ]
  },
  {
   "cell_type": "code",
   "execution_count": 26,
   "metadata": {},
   "outputs": [
    {
     "name": "stdout",
     "output_type": "stream",
     "text": [
      "{'N': 2, 'K': 1, 'x': [1970, 1971, 1972, 1973, 1974, 1975, 1976, 1977, 1978, 1979, 1980, 1981, 1982, 1983, 1984, 1985, 1986, 1987, 1988, 1989, 1990, 1991, 1992, 1993, 1994, 1995, 1996, 1997, 1998, 1999, 2000, 2001, 2002, 2003, 2004, 2005, 2006, 2007, 2008, 2009, 2010, 2011, 2012, 2013, 2014, 2015, 2016, 2017, 2018], 'y': date\n",
      "2000-12-31   -250.898907\n",
      "2004-12-31    483.266849\n",
      "Freq: 4A-DEC, Name: water_level, dtype: float64, 'g': [1, 1, 1, 1, 1, 1, 1, 1, 1, 1, 1, 1, 1, 1, 1, 1, 1, 1, 1, 1, 1, 1, 1, 1, 1, 1, 1, 1, 1, 1, 1, 1, 1, 1, 1, 1, 1, 1, 1, 1, 1, 1, 1, 1, 1, 1, 1, 1, 1]}\n"
     ]
    }
   ],
   "source": [
    "k=1\n",
    "\n",
    "x = list(range(1970, 2019)) * k\n",
    "y = yearly_means['water_level']\n",
    "g = sum(list(map(lambda x: [x]*49, [i for i in range(1, k + 1)])), [])\n",
    "\n",
    "data = {\n",
    "    'N': k*len(yearly_means),\n",
    "    'K': k,\n",
    "    'x': x,\n",
    "    'y': y,\n",
    "    'g': g\n",
    "}\n",
    "\n",
    "print(data)"
   ]
  },
  {
   "cell_type": "code",
   "execution_count": 5,
   "metadata": {},
   "outputs": [],
   "source": [
    "def compile_model(model_code, model_name=None):\n",
    "    \"\"\"This will automatically cache models - great if you're just running a\n",
    "    script on the command line.\n",
    "    See http://pystan.readthedocs.io/en/latest/avoiding_recompilation.html\"\"\"\n",
    "\n",
    "    code_hash = md5(model_code.encode('ascii')).hexdigest()\n",
    "    if model_name is None:\n",
    "        cache_fn = 'cached-model-{}.pkl'.format(code_hash)\n",
    "    else:\n",
    "        cache_fn = 'cached-{}-{}.pkl'.format(model_name, code_hash)\n",
    "    try:\n",
    "        sm = pickle.load(open(cache_fn, 'rb'))\n",
    "    except:\n",
    "        sm = pystan.StanModel(model_code=model_code)\n",
    "        with open(cache_fn, 'wb') as f:\n",
    "            pickle.dump(sm, f)\n",
    "    else:\n",
    "        print(\"Using cached StanModel\")\n",
    "    return sm"
   ]
  },
  {
   "cell_type": "code",
   "execution_count": 6,
   "metadata": {},
   "outputs": [
    {
     "name": "stderr",
     "output_type": "stream",
     "text": [
      "INFO:pystan:COMPILING THE C++ CODE FOR MODEL anon_model_ee6743ee772b9470575a4e99cd8eeeba NOW.\n"
     ]
    }
   ],
   "source": [
    "separate_stan_model = \"\"\"\n",
    "data {\n",
    "  int<lower=0> N; // number of data points\n",
    "  int<lower=1> K; // number of groups\n",
    "  vector[N] y;\n",
    "  vector[N] x;  // years\n",
    "  int<lower=1,upper=K> g[N];\n",
    "}\n",
    "parameters {\n",
    "  vector[K] alpha;\n",
    "  vector[K] beta;\n",
    "  vector<lower=0>[K] sigma;\n",
    "}\n",
    "model {\n",
    "  beta ~ normal(3.2, 10^2);\n",
    "  y ~ normal(alpha[g] + beta[g].*(x-1980), sigma[g]);\n",
    "}\n",
    "generated quantities {\n",
    " vector[N] log_lik\n",
    " vector[N] y_rep;\n",
    " for (i in 1:N) {\n",
    "   log_lik[i] = normal_lpdf(y[i] | alpha[g[i]] + beta[g[i]] .* (x[i]-1980), sigma[g[i]]);\n",
    "   y_rep[i] = normal_rng(alpha[g[i]] + beta[g[i]] .* (x[i]-1980), sigma[g[i]]);\n",
    " }\n",
    "}\n",
    "\"\"\"\n",
    "sm_separate = compile_model(separate_stan_model, model_name=\"separate\")"
   ]
  },
  {
   "cell_type": "code",
   "execution_count": 12,
   "metadata": {},
   "outputs": [
    {
     "ename": "RuntimeError",
     "evalue": "Exception: mismatch in dimension declared and found in context; processing stage=data initialization; variable name=x; position=0; dims declared=(2); dims found=(49)  (in 'unknown file name' at line 6)\n",
     "output_type": "error",
     "traceback": [
      "\u001b[0;31m---------------------------------------------------------------------------\u001b[0m",
      "\u001b[0;31mRuntimeError\u001b[0m                              Traceback (most recent call last)",
      "\u001b[0;32m<ipython-input-12-25d4be250935>\u001b[0m in \u001b[0;36m<module>\u001b[0;34m\u001b[0m\n\u001b[0;32m----> 1\u001b[0;31m \u001b[0mfit\u001b[0m \u001b[0;34m=\u001b[0m \u001b[0msm_separate\u001b[0m\u001b[0;34m.\u001b[0m\u001b[0msampling\u001b[0m\u001b[0;34m(\u001b[0m\u001b[0mdata\u001b[0m\u001b[0;34m)\u001b[0m\u001b[0;34m\u001b[0m\u001b[0;34m\u001b[0m\u001b[0m\n\u001b[0m",
      "\u001b[0;32m/usr/local/lib/python3.6/dist-packages/pystan/model.py\u001b[0m in \u001b[0;36msampling\u001b[0;34m(self, data, pars, chains, iter, warmup, thin, seed, init, sample_file, diagnostic_file, verbose, algorithm, control, n_jobs, **kwargs)\u001b[0m\n\u001b[1;32m    756\u001b[0m                 \u001b[0;32mraise\u001b[0m \u001b[0mValueError\u001b[0m\u001b[0;34m(\u001b[0m\u001b[0;34m\"Warmup samples must be greater than 0 when adaptation is enabled (`adapt_engaged=True`)\"\u001b[0m\u001b[0;34m)\u001b[0m\u001b[0;34m\u001b[0m\u001b[0;34m\u001b[0m\u001b[0m\n\u001b[1;32m    757\u001b[0m         \u001b[0mseed\u001b[0m \u001b[0;34m=\u001b[0m \u001b[0mpystan\u001b[0m\u001b[0;34m.\u001b[0m\u001b[0mmisc\u001b[0m\u001b[0;34m.\u001b[0m\u001b[0m_check_seed\u001b[0m\u001b[0;34m(\u001b[0m\u001b[0mseed\u001b[0m\u001b[0;34m)\u001b[0m\u001b[0;34m\u001b[0m\u001b[0;34m\u001b[0m\u001b[0m\n\u001b[0;32m--> 758\u001b[0;31m         \u001b[0mfit\u001b[0m \u001b[0;34m=\u001b[0m \u001b[0mself\u001b[0m\u001b[0;34m.\u001b[0m\u001b[0mfit_class\u001b[0m\u001b[0;34m(\u001b[0m\u001b[0mdata\u001b[0m\u001b[0;34m,\u001b[0m \u001b[0mseed\u001b[0m\u001b[0;34m)\u001b[0m\u001b[0;34m\u001b[0m\u001b[0;34m\u001b[0m\u001b[0m\n\u001b[0m\u001b[1;32m    759\u001b[0m \u001b[0;34m\u001b[0m\u001b[0m\n\u001b[1;32m    760\u001b[0m         \u001b[0mm_pars\u001b[0m \u001b[0;34m=\u001b[0m \u001b[0mfit\u001b[0m\u001b[0;34m.\u001b[0m\u001b[0m_get_param_names\u001b[0m\u001b[0;34m(\u001b[0m\u001b[0;34m)\u001b[0m\u001b[0;34m\u001b[0m\u001b[0;34m\u001b[0m\u001b[0m\n",
      "\u001b[0;32mstanfit4anon_model_ee6743ee772b9470575a4e99cd8eeeba_3423124896834238998.pyx\u001b[0m in \u001b[0;36mstanfit4anon_model_ee6743ee772b9470575a4e99cd8eeeba_3423124896834238998.StanFit4Model.__cinit__\u001b[0;34m()\u001b[0m\n",
      "\u001b[0;31mRuntimeError\u001b[0m: Exception: mismatch in dimension declared and found in context; processing stage=data initialization; variable name=x; position=0; dims declared=(2); dims found=(49)  (in 'unknown file name' at line 6)\n"
     ]
    }
   ],
   "source": [
    "fit = sm_separate.sampling(data)"
   ]
  },
  {
   "cell_type": "code",
   "execution_count": null,
   "metadata": {},
   "outputs": [],
   "source": [
    "summary = fit_summary(fit)\n",
    "display(summary)"
   ]
  }
 ],
 "metadata": {
  "kernelspec": {
   "display_name": "Python 3",
   "language": "python",
   "name": "python3"
  },
  "language_info": {
   "codemirror_mode": {
    "name": "ipython",
    "version": 3
   },
   "file_extension": ".py",
   "mimetype": "text/x-python",
   "name": "python",
   "nbconvert_exporter": "python",
   "pygments_lexer": "ipython3",
   "version": "3.6.8"
  }
 },
 "nbformat": 4,
 "nbformat_minor": 2
}
